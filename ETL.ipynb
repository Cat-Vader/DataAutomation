{
 "cells": [
  {
   "cell_type": "markdown",
   "metadata": {},
   "source": [
    "## Installing Dependencies"
   ]
  },
  {
   "cell_type": "code",
   "execution_count": 1,
   "metadata": {},
   "outputs": [
    {
     "name": "stdout",
     "output_type": "stream",
     "text": [
      "Requirement already satisfied: pandas in c:\\python311\\lib\\site-packages (2.1.3)\n",
      "Requirement already satisfied: numpy<2,>=1.23.2 in c:\\python311\\lib\\site-packages (from pandas) (1.26.2)\n",
      "Requirement already satisfied: python-dateutil>=2.8.2 in c:\\python311\\lib\\site-packages (from pandas) (2.8.2)\n",
      "Requirement already satisfied: pytz>=2020.1 in c:\\python311\\lib\\site-packages (from pandas) (2023.3.post1)\n",
      "Requirement already satisfied: tzdata>=2022.1 in c:\\python311\\lib\\site-packages (from pandas) (2023.3)\n",
      "Requirement already satisfied: six>=1.5 in c:\\python311\\lib\\site-packages (from python-dateutil>=2.8.2->pandas) (1.16.0)\n"
     ]
    },
    {
     "name": "stderr",
     "output_type": "stream",
     "text": [
      "WARNING: Ignoring invalid distribution ~penai (C:\\Python311\\Lib\\site-packages)\n",
      "WARNING: Ignoring invalid distribution ~penai (C:\\Python311\\Lib\\site-packages)\n",
      "\n",
      "[notice] A new release of pip is available: 23.3.1 -> 24.2\n",
      "[notice] To update, run: python.exe -m pip install --upgrade pip\n"
     ]
    },
    {
     "name": "stdout",
     "output_type": "stream",
     "text": [
      "Requirement already satisfied: openpyxl in c:\\python311\\lib\\site-packages (3.1.2)\n",
      "Requirement already satisfied: et-xmlfile in c:\\python311\\lib\\site-packages (from openpyxl) (1.1.0)\n"
     ]
    },
    {
     "name": "stderr",
     "output_type": "stream",
     "text": [
      "WARNING: Ignoring invalid distribution ~penai (C:\\Python311\\Lib\\site-packages)\n",
      "WARNING: Ignoring invalid distribution ~penai (C:\\Python311\\Lib\\site-packages)\n",
      "\n",
      "[notice] A new release of pip is available: 23.3.1 -> 24.2\n",
      "[notice] To update, run: python.exe -m pip install --upgrade pip\n"
     ]
    }
   ],
   "source": [
    "! pip install pandas\n",
    "! pip install openpyxl"
   ]
  },
  {
   "cell_type": "code",
   "execution_count": 2,
   "metadata": {},
   "outputs": [],
   "source": [
    "import pandas as pd\n",
    "import numpy as np"
   ]
  },
  {
   "cell_type": "markdown",
   "metadata": {},
   "source": [
    "## Load Excel Data"
   ]
  },
  {
   "cell_type": "code",
   "execution_count": 3,
   "metadata": {},
   "outputs": [],
   "source": [
    "csod_file_path = 'csod_schema.xlsx'\n",
    "test_data_file_path = 'Test.xlsx'\n",
    "\n",
    "csod_data = pd.ExcelFile(r'C:\\Users\\Briankechy\\source\\data\\DataAutomation\\csod_schema.xlsx')\n",
    "test_data = pd.ExcelFile(r'C:\\Users\\Briankechy\\source\\data\\DataAutomation\\Test.xlsx')\n"
   ]
  },
  {
   "cell_type": "markdown",
   "metadata": {},
   "source": [
    "## Load Excel Files"
   ]
  },
  {
   "cell_type": "code",
   "execution_count": 4,
   "metadata": {},
   "outputs": [],
   "source": [
    "# File paths\n",
    "csod_file_path = r'C:\\Users\\Briankechy\\source\\data\\DataAutomation\\csod_schema.xlsx'\n",
    "test_data_file_path = r'C:\\Users\\Briankechy\\source\\data\\DataAutomation\\Test.xlsx'\n",
    "\n",
    "# Load Excel files\n",
    "csod_data = pd.ExcelFile(csod_file_path)\n",
    "test_data = pd.ExcelFile(test_data_file_path)"
   ]
  },
  {
   "cell_type": "markdown",
   "metadata": {},
   "source": [
    "## Load Data from Each retailer"
   ]
  },
  {
   "cell_type": "code",
   "execution_count": 5,
   "metadata": {},
   "outputs": [],
   "source": [
    "def load_data(excel_file):\n",
    "    carrefour_df = pd.read_excel(excel_file, sheet_name=\"CARREFOUR\")\n",
    "    naivas_df = pd.read_excel(excel_file, sheet_name=\"NAIVAS\")\n",
    "    quickmatt_df = pd.read_excel(excel_file, sheet_name=\"QUICKMATT\")\n",
    "    return carrefour_df, naivas_df, quickmatt_df\n"
   ]
  },
  {
   "cell_type": "markdown",
   "metadata": {},
   "source": [
    "## Standardize columns"
   ]
  },
  {
   "cell_type": "code",
   "execution_count": 6,
   "metadata": {},
   "outputs": [],
   "source": [
    "# Transform: Standardize column names\n",
    "def standardize_columns(carrefour_df, naivas_df, quickmatt_df):\n",
    "    # Standardize Carrefour columns\n",
    "    carrefour_df = carrefour_df.rename(columns={\n",
    "        'Dept Name': 'Department',\n",
    "        'Section Name': 'Section',\n",
    "        'Family name': 'Family',\n",
    "        'Sub Family Name': 'SubFamily',\n",
    "        'Brand Name': 'Brand',\n",
    "        'SKU Description': 'Itemname'\n",
    "    })\n",
    "    carrefour_df['Retailer'] = 'CARREFOUR'\n",
    "\n",
    "    # Standardize Naivas columns\n",
    "    naivas_df = naivas_df.rename(columns={\n",
    "        'Storename': 'Store',\n",
    "        'Subcategory': 'SubFamily',\n",
    "        'Suppliername': 'Supplier',\n",
    "        'Netamountincl': 'Total_Sales'\n",
    "    })\n",
    "    naivas_df['Retailer'] = 'NAIVAS'\n",
    "\n",
    "    # Standardize Quickmatt columns\n",
    "    quickmatt_df = quickmatt_df.rename(columns={\n",
    "        'STORE_NAME': 'Store',\n",
    "        'ITEM_CODE': 'ItemCode',\n",
    "        'ITEM_NAME': 'Itemname',\n",
    "        'DEPARTMENT': 'Department',\n",
    "        'SUB DEPARTMENT': 'SubDepartment',\n",
    "        'MICRO DEPARTMENT': 'MicroDepartment',\n",
    "        'TOTAL SALES': 'Total_Sales'\n",
    "    })\n",
    "    quickmatt_df['Retailer'] = 'QUICKMATT'\n",
    "\n",
    "    return carrefour_df, naivas_df, quickmatt_df"
   ]
  },
  {
   "cell_type": "markdown",
   "metadata": {},
   "source": [
    "##  Match products and generate unified Product ID"
   ]
  },
  {
   "cell_type": "code",
   "execution_count": 7,
   "metadata": {},
   "outputs": [],
   "source": [
    "# Transform: Match products and generate unified Product ID\n",
    "def match_products_and_generate_id(carrefour_df, naivas_df, quickmatt_df):\n",
    "    # Select relevant columns from each dataframe\n",
    "    carrefour_products = carrefour_df[['Itemname', 'Brand', 'Family', 'SubFamily', 'Retailer']]\n",
    "    naivas_products = naivas_df[['Itemname', 'Brand', 'Subcategory', 'Retailer']]\n",
    "    quickmatt_products = quickmatt_df[['Itemname', 'ItemCode', 'Department', 'SubDepartment', 'MicroDepartment', 'Retailer']]\n",
    "\n",
    "    # Concatenate all products\n",
    "    all_products = pd.concat([carrefour_products, naivas_products, quickmatt_products], ignore_index=True)\n",
    "\n",
    "    # Remove duplicates based on Itemname and Retailer\n",
    "    all_products = all_products.drop_duplicates(subset=['Itemname', 'Retailer'])\n",
    "\n",
    "    # Generate Product ID\n",
    "    all_products['Product_ID'] = [f'PROD_{i:05d}' for i in range(1, len(all_products) + 1)]\n",
    "\n",
    "    return all_products\n"
   ]
  },
  {
   "cell_type": "markdown",
   "metadata": {},
   "source": [
    "## master Dataset"
   ]
  },
  {
   "cell_type": "code",
   "execution_count": 8,
   "metadata": {},
   "outputs": [],
   "source": [
    "# Load: Create master dataset\n",
    "def create_master_dataset(all_products, carrefour_df, naivas_df, quickmatt_df):\n",
    "    # Merge the Product_ID back to original dataframes\n",
    "    carrefour_merged = pd.merge(carrefour_df, all_products[['Itemname', 'Product_ID', 'Retailer']], \n",
    "                                on=['Itemname', 'Retailer'], how='left')\n",
    "    naivas_merged = pd.merge(naivas_df, all_products[['Itemname', 'Product_ID', 'Retailer']], \n",
    "                             on=['Itemname', 'Retailer'], how='left')\n",
    "    quickmatt_merged = pd.merge(quickmatt_df, all_products[['Itemname', 'Product_ID', 'Retailer']], \n",
    "                                on=['Itemname', 'Retailer'], how='left')\n",
    "\n",
    "    # Combine all data into a master dataset\n",
    "    master_dataset = pd.concat([carrefour_merged, naivas_merged, quickmatt_merged], ignore_index=True)\n",
    "\n",
    "    return master_dataset"
   ]
  },
  {
   "cell_type": "markdown",
   "metadata": {},
   "source": [
    "main"
   ]
  },
  {
   "cell_type": "markdown",
   "metadata": {},
   "source": [
    "run only this for poc"
   ]
  },
  {
   "cell_type": "code",
   "execution_count": 8,
   "metadata": {},
   "outputs": [
    {
     "name": "stdout",
     "output_type": "stream",
     "text": [
      "Updated ITEMMASTER saved to 'updated_itemmaster_final_with_cleanup.csv'\n"
     ]
    }
   ],
   "source": [
    "import pandas as pd\n",
    "\n",
    "# File paths\n",
    "test_data_file_path = r'C:\\Users\\Briankechy\\source\\data\\DataAutomation\\Test.xlsx'\n",
    "\n",
    "# Load Excel file\n",
    "test_data = pd.ExcelFile(test_data_file_path)\n",
    "\n",
    "# Load ITEMMASTER (the reference)\n",
    "itemmaster_df = pd.read_excel(test_data, sheet_name='ITEMMASTER')\n",
    "\n",
    "# Function to process each supermarket and update ITEMMASTER sequentially\n",
    "def process_supermarket_data(supermarket_df, itemmaster_df, unique_identifier, desc_column, barcode_column=None, brand_column=None):\n",
    "    # Prepare list to collect new entries\n",
    "    new_entries = []\n",
    "\n",
    "    # Iterate through each row in the supermarket data\n",
    "    for idx, row in supermarket_df.iterrows():\n",
    "        unique_id = row.get(unique_identifier)\n",
    "        description = row.get(desc_column)\n",
    "        barcode = row.get(barcode_column) if barcode_column else None\n",
    "        brand = row.get(brand_column) if brand_column else None\n",
    "\n",
    "        # Check if unique identifier or barcode exists in ITEMMASTER\n",
    "        if unique_id not in itemmaster_df['prodcode'].values:\n",
    "            if barcode is None or barcode not in itemmaster_df['Barcode(WITH GEN)'].values:\n",
    "                # Add the new entry\n",
    "                new_entry = {\n",
    "                    'prodcode': unique_id,\n",
    "                    'DESC': description,\n",
    "                    'Barcode(WITH GEN)': barcode,\n",
    "                    'Brand': brand\n",
    "                }\n",
    "                new_entries.append(new_entry)\n",
    "\n",
    "    # Convert new entries to DataFrame and concatenate with ITEMMASTER\n",
    "    if new_entries:\n",
    "        new_entries_df = pd.DataFrame(new_entries)\n",
    "        itemmaster_df = pd.concat([itemmaster_df, new_entries_df], ignore_index=True)\n",
    "\n",
    "    return itemmaster_df\n",
    "\n",
    "# Process each supermarket sequentially and update ITEMMASTER\n",
    "naivas_df = pd.read_excel(test_data, sheet_name='Naivas')\n",
    "itemmaster_df = process_supermarket_data(naivas_df, itemmaster_df, unique_identifier='Itemid', desc_column='Itemname')\n",
    "\n",
    "quickmatt_df = pd.read_excel(test_data, sheet_name='Quickmatt')\n",
    "itemmaster_df = process_supermarket_data(quickmatt_df, itemmaster_df, unique_identifier='ITEM_CODE', desc_column='ITEM_NAME', barcode_column='BARCODE')\n",
    "\n",
    "carrefour_df = pd.read_excel(test_data, sheet_name='Carrefour', skiprows=6)\n",
    "itemmaster_df = process_supermarket_data(carrefour_df, itemmaster_df, unique_identifier='Item Code', desc_column='Item Name', barcode_column='Item Bar Code')\n",
    "\n",
    "magunas_df = pd.read_excel(test_data, sheet_name='Magunas')\n",
    "for idx, row in magunas_df.iterrows():\n",
    "    sku_description = row.get('SKU-DESCRIPTION')\n",
    "    if pd.notna(sku_description):\n",
    "        item_code, *description_parts = sku_description.split('-')\n",
    "        item_code = item_code.strip()\n",
    "        description = '-'.join(description_parts).strip()\n",
    "\n",
    "        if item_code not in itemmaster_df['prodcode'].values:\n",
    "            new_entry = {\n",
    "                'prodcode': item_code,\n",
    "                'DESC': description,\n",
    "                'Barcode(WITH GEN)': None,\n",
    "                'Brand': None\n",
    "            }\n",
    "            new_entries = [new_entry]\n",
    "            new_entries_df = pd.DataFrame(new_entries)\n",
    "            itemmaster_df = pd.concat([itemmaster_df, new_entries_df], ignore_index=True)\n",
    "\n",
    "chandarana_df = pd.read_excel(test_data, sheet_name='Chandarana ', skiprows=1)\n",
    "for idx, row in chandarana_df.iterrows():\n",
    "    item_name = row.get('Item Name')\n",
    "    barcode = row.get('Barcode')\n",
    "\n",
    "    if barcode not in itemmaster_df['Barcode(WITH GEN)'].values:\n",
    "        new_entry = {\n",
    "            'prodcode': None,\n",
    "            'DESC': item_name,\n",
    "            'Barcode(WITH GEN)': barcode,\n",
    "            'Brand': None\n",
    "        }\n",
    "        new_entries = [new_entry]\n",
    "        new_entries_df = pd.DataFrame(new_entries)\n",
    "        itemmaster_df = pd.concat([itemmaster_df, new_entries_df], ignore_index=True)\n",
    "\n",
    "# Function to remove duplicates based on key identifiers\n",
    "def remove_duplicates(itemmaster_df):\n",
    "    # Drop duplicates based on prodcode and Barcode(WITH GEN), keeping the first occurrence\n",
    "    itemmaster_df.drop_duplicates(subset=['prodcode', 'Barcode(WITH GEN)'], keep='first', inplace=True)\n",
    "    return itemmaster_df\n",
    "\n",
    "# Function to complete additional fields by cross-referencing with supermarket data\n",
    "def complete_missing_fields(itemmaster_df, supermarket_dfs):\n",
    "    for df in supermarket_dfs:\n",
    "        for idx, row in df.iterrows():\n",
    "            unique_id = row.get('Itemid') or row.get('ITEM_CODE') or row.get('Item Code') or row.get('SKU') or row.get('Barcode')\n",
    "            if pd.notna(unique_id):\n",
    "                # Locate the row in ITEMMASTER\n",
    "                mask = (itemmaster_df['prodcode'] == unique_id) | (itemmaster_df['Barcode(WITH GEN)'] == row.get('Barcode'))\n",
    "                # Update Brand and other fields if they are missing in ITEMMASTER but present in the current row\n",
    "                if mask.any():\n",
    "                    itemmaster_idx = itemmaster_df.index[mask][0]\n",
    "                    if pd.isna(itemmaster_df.at[itemmaster_idx, 'Brand']) and row.get('Brand'):\n",
    "                        itemmaster_df.at[itemmaster_idx, 'Brand'] = row.get('Brand')\n",
    "    return itemmaster_df\n",
    "\n",
    "# Sequentially remove duplicates\n",
    "itemmaster_df = remove_duplicates(itemmaster_df)\n",
    "\n",
    "# Complete missing fields by cross-referencing with the supermarket data\n",
    "supermarket_dfs = [naivas_df, quickmatt_df, carrefour_df, magunas_df, chandarana_df]\n",
    "itemmaster_df = complete_missing_fields(itemmaster_df, supermarket_dfs)\n",
    "\n",
    "# Save updated ITEMMASTER to a new Excel file\n",
    "itemmaster_df.to_csv('updated_itemmaster_final_with_cleanup.csv', index=False)\n",
    "print(\"Updated ITEMMASTER saved to 'updated_itemmaster_final_with_cleanup.csv'\")\n"
   ]
  },
  {
   "cell_type": "code",
   "execution_count": 1,
   "metadata": {},
   "outputs": [
    {
     "name": "stdout",
     "output_type": "stream",
     "text": [
      "Saved Synopsis.xlsx\n",
      "Saved ITEMMASTER.xlsx\n",
      "Saved Naivas.xlsx\n",
      "Saved Quickmatt.xlsx\n",
      "Saved Carrefour.xlsx\n",
      "Saved Magunas.xlsx\n",
      "Saved Chandarana .xlsx\n"
     ]
    }
   ],
   "source": [
    "import pandas as pd\n",
    "\n",
    "# Load the workbook\n",
    "file_path = r'C:\\Users\\Briankechy\\source\\data\\DataAutomation\\Test.xlsx'\n",
    "excel_file = pd.ExcelFile(file_path)\n",
    "\n",
    "# Loop through each sheet and save it as a separate Excel file\n",
    "for sheet_name in excel_file.sheet_names:\n",
    "    # Read each sheet into a DataFrame\n",
    "    df = excel_file.parse(sheet_name)\n",
    "    \n",
    "    # Define the output file name (uses the sheet name for clarity)\n",
    "    output_file = f'{sheet_name}.xlsx'\n",
    "    \n",
    "    # Save the DataFrame to a new Excel file\n",
    "    df.to_excel(output_file, index=False)\n",
    "    print(f\"Saved {output_file}\")\n"
   ]
  },
  {
   "cell_type": "markdown",
   "metadata": {},
   "source": [
    "## Setting Up the Database, and SQL statements"
   ]
  },
  {
   "cell_type": "code",
   "execution_count": null,
   "metadata": {},
   "outputs": [],
   "source": [
    "table_name = 'test_table'\n",
    "\n",
    "def generate_sql_statements(df, column_mapping, table_name):\n",
    "    insert_statement = []\n",
    "    for_, row in df.iterrows():\n",
    "        #create a list of mapped Values\n",
    "        values = [\n",
    "            row['year'],\n",
    "            row['TOTAL QNTY'],\n",
    "            row['TOTAL VALUE']\n",
    "        ]\n",
    "        \n",
    "        #Format Values for SQL compatibility\n",
    "    formatted_values = [f\"'{value}'\" if isinstance(value, str) else value for value in values]\n",
    "    \n",
    "    sql_statement = f\"INSERT INTO {table_name} (Code, U_ProductDes, U_StoreName) VALUES ({formatted_values[0]}, {formatted_values[1]}, {formatted_values[2]});\"\n",
    "    instert_statement.append(sql_statement)\n",
    "    \n",
    "    return insert_statement"
   ]
  },
  {
   "cell_type": "markdown",
   "metadata": {},
   "source": [
    "OUTPUT SQL STATEMENTS TO A .SQL FILE"
   ]
  },
  {
   "cell_type": "code",
   "execution_count": null,
   "metadata": {},
   "outputs": [],
   "source": [
    "with open('insert.sql', 'w') as f:\n",
    "    for statement in generate_sql_statements:\n",
    "        f.write(f\"{statement}\\n\")\n",
    "print (\"SQL insert statements have been written to insert_statement.sql\")"
   ]
  }
 ],
 "metadata": {
  "kernelspec": {
   "display_name": "Python 3",
   "language": "python",
   "name": "python3"
  },
  "language_info": {
   "codemirror_mode": {
    "name": "ipython",
    "version": 3
   },
   "file_extension": ".py",
   "mimetype": "text/x-python",
   "name": "python",
   "nbconvert_exporter": "python",
   "pygments_lexer": "ipython3",
   "version": "3.11.4"
  }
 },
 "nbformat": 4,
 "nbformat_minor": 2
}
