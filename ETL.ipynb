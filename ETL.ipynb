{
 "cells": [
  {
   "cell_type": "markdown",
   "metadata": {},
   "source": [
    "## Installing Dependencies"
   ]
  },
  {
   "cell_type": "code",
   "execution_count": 6,
   "metadata": {},
   "outputs": [
    {
     "name": "stdout",
     "output_type": "stream",
     "text": [
      "Requirement already satisfied: pandas in ./.venv/lib/python3.12/site-packages (2.2.3)\n",
      "Requirement already satisfied: numpy>=1.26.0 in ./.venv/lib/python3.12/site-packages (from pandas) (2.1.2)\n",
      "Requirement already satisfied: python-dateutil>=2.8.2 in ./.venv/lib/python3.12/site-packages (from pandas) (2.9.0.post0)\n",
      "Requirement already satisfied: pytz>=2020.1 in ./.venv/lib/python3.12/site-packages (from pandas) (2024.2)\n",
      "Requirement already satisfied: tzdata>=2022.7 in ./.venv/lib/python3.12/site-packages (from pandas) (2024.2)\n",
      "Requirement already satisfied: six>=1.5 in ./.venv/lib/python3.12/site-packages (from python-dateutil>=2.8.2->pandas) (1.16.0)\n",
      "Collecting openpyxl\n",
      "  Downloading openpyxl-3.1.5-py2.py3-none-any.whl.metadata (2.5 kB)\n",
      "Collecting et-xmlfile (from openpyxl)\n",
      "  Downloading et_xmlfile-1.1.0-py3-none-any.whl.metadata (1.8 kB)\n",
      "Downloading openpyxl-3.1.5-py2.py3-none-any.whl (250 kB)\n",
      "Downloading et_xmlfile-1.1.0-py3-none-any.whl (4.7 kB)\n",
      "Installing collected packages: et-xmlfile, openpyxl\n",
      "Successfully installed et-xmlfile-1.1.0 openpyxl-3.1.5\n"
     ]
    }
   ],
   "source": [
    "! pip install pandas\n",
    "! pip install openpyxl"
   ]
  },
  {
   "cell_type": "code",
   "execution_count": 7,
   "metadata": {},
   "outputs": [],
   "source": [
    "import pandas as pd"
   ]
  },
  {
   "cell_type": "markdown",
   "metadata": {},
   "source": [
    "## Load Excel Data"
   ]
  },
  {
   "cell_type": "code",
   "execution_count": 8,
   "metadata": {},
   "outputs": [],
   "source": [
    "csod_file_path = 'csod_schema.xlsx'\n",
    "test_data_file_path = 'test_data.xlsx'\n",
    "\n",
    "csod_data = pd.ExcelFile('/workspaces/DataAutomation/csod_schema.xlsx')\n",
    "test_data = pd.ExcelFile('/workspaces/DataAutomation/TEST DATA.xlsx')"
   ]
  },
  {
   "cell_type": "markdown",
   "metadata": {},
   "source": [
    "## Parsing the Schema using CarreFour as our First Example"
   ]
  },
  {
   "cell_type": "code",
   "execution_count": 9,
   "metadata": {},
   "outputs": [],
   "source": [
    "csod_df = csod_data\n",
    "test_df = test_data"
   ]
  },
  {
   "cell_type": "markdown",
   "metadata": {},
   "source": [
    "## Definfing Column Mapping"
   ]
  },
  {
   "cell_type": "code",
   "execution_count": null,
   "metadata": {},
   "outputs": [],
   "source": [
    "csod_df = csod_data.parse('Sheet1')\n",
    "test_df = test_data.parse('CARREFOUR')\n",
    "\n",
    "\n",
    "#schema and Test data \n",
    "column_mapping = {\n",
    "    'year': 'Code', \n",
    "    'TOTAL QNTY': 'U_ProductDes',\n",
    "    'TOTAL VALUE': 'U_StoreName',\n",
    "    \n",
    "    #todo: add more mappings here\n",
    "}\n"
   ]
  },
  {
   "cell_type": "markdown",
   "metadata": {},
   "source": [
    "## Setting Up the Database, and SQL statements"
   ]
  },
  {
   "cell_type": "code",
   "execution_count": null,
   "metadata": {},
   "outputs": [],
   "source": [
    "table_name = 'test_table'\n",
    "\n",
    "def generate_sql_statements(df, column_mapping, table_name):\n",
    "    insert_statement = []\n",
    "    for_, row in df.iterrows():\n",
    "        #create a list of mapped Values\n",
    "        values = [\n",
    "            row['year'],\n",
    "            row['TOTAL QNTY'],\n",
    "            row['TOTAL VALUE']\n",
    "        ]\n",
    "        \n",
    "        #Format Values for SQL compatibility\n",
    "    formatted_values = [f\"'{value}'\" if isinstance(value, str) else value for value in values]\n",
    "    \n",
    "    sql_statement = f\"INSERT INTO {table_name} (Code, U_ProductDes, U_StoreName) VALUES ({formatted_values[0]}, {formatted_values[1]}, {formatted_values[2]});\"\n",
    "    instert_statement.append(sql_statement)\n",
    "    \n",
    "    return insert_statement"
   ]
  },
  {
   "cell_type": "markdown",
   "metadata": {},
   "source": [
    "OUTPUT SQL STATEMENTS TO A .SQL FILE"
   ]
  },
  {
   "cell_type": "code",
   "execution_count": null,
   "metadata": {},
   "outputs": [],
   "source": [
    "with open('insert.sql', 'w') as f:\n",
    "    for statement in generate_sql_statements:\n",
    "        f.write(f\"{statement}\\n\")\n",
    "print (\"SQL insert statements have been written to insert_statement.sql\")"
   ]
  }
 ],
 "metadata": {
  "kernelspec": {
   "display_name": ".venv",
   "language": "python",
   "name": "python3"
  },
  "language_info": {
   "codemirror_mode": {
    "name": "ipython",
    "version": 3
   },
   "file_extension": ".py",
   "mimetype": "text/x-python",
   "name": "python",
   "nbconvert_exporter": "python",
   "pygments_lexer": "ipython3",
   "version": "3.12.1"
  }
 },
 "nbformat": 4,
 "nbformat_minor": 2
}
